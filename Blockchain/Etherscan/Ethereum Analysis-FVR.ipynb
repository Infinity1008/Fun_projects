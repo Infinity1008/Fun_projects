{
 "cells": [
  {
   "cell_type": "markdown",
   "id": "6ad3ca93",
   "metadata": {},
   "source": [
    "# Ethereum\n",
    "<img src=\"https://2163491710-files.gitbook.io/~/files/v0/b/gitbook-x-prod.appspot.com/o/spaces%2F-McrExXKKJBLJqymbFhO%2Fuploads%2Fgit-blob-e872ec46815c6b27a656435e59e6a3c45435c080%2F1200px-Ethereum-icon-purple.svg.png?alt=media\" alt=\"Ethereum\" width=\"300\"/>\n",
    "\n",
    "Ethereum is a technology for building apps and organizations, holding assets, transacting and communicating without being controlled by a central authority. There is no need to hand over all your personal details to use Ethereum - you keep control of your own data and what is being shared. Ethereum has its own cryptocurrency, Ether, which is used to pay for certain activities on the Ethereum network.\n",
    "\n",
    "---"
   ]
  },
  {
   "cell_type": "markdown",
   "id": "f0965a25",
   "metadata": {},
   "source": [
    "\n",
    "# Etherscan\n",
    "![etherscan](https://etherscan.io/assets/svg/logos/logo-etherscan.svg?v=0.0.2 \"Etherscan\")\n",
    "\n",
    "Etherscan is a Block Explorer and Analytics Platform for Ethereum, a decentralized smart contracts platform.\n",
    "\n",
    "- Using Etherscan, we can get information about the latest blocks and transactions of the network. \n",
    "- Registration, any fee, or special access are not needed to view this information on a service. Users can follow the changes in real-time.\n",
    "\n",
    "So, Today we are going to explore some of the API's available for etherscan to do analysis on the ethereum network. "
   ]
  },
  {
   "cell_type": "markdown",
   "id": "b8864ffb",
   "metadata": {},
   "source": [
    "![Learn](https://media1.giphy.com/media/ZoAa7lsmym6UE/giphy.gif?cid=ecf05e47jfds14rvvchfgubx8j8yqxf502pcwq0xs7rdt0fj&rid=giphy.gif&ct=g)"
   ]
  },
  {
   "cell_type": "markdown",
   "id": "66d3a8d3",
   "metadata": {},
   "source": [
    "## Registration\n",
    "Firstly, you will have to go and create an account at [etherscan](https://etherscan.io/).\n",
    "![etherscan](images/etherscan.png \"Etherscan\")\n",
    "\n",
    "---\n",
    "\n",
    "- Once you have signed up, you can go to your profile and go to the API section. \n",
    "- You will have to create a project, then you will be able to copy your API keys.  \n",
    "\n",
    "---\n",
    "\n",
    "![etherscan_api](images/etherscan_api.png \"etherscan_api\")\n",
    "\n",
    "---\n",
    "- API access is free for most features but some are paid. We are only going to cover the free sections here. "
   ]
  },
  {
   "cell_type": "markdown",
   "id": "ff7b7da8",
   "metadata": {},
   "source": [
    "---\n",
    "Once you have your API key's we can get started and pull information about the ethereum network."
   ]
  },
  {
   "cell_type": "code",
   "execution_count": null,
   "id": "accaf4c1",
   "metadata": {},
   "outputs": [],
   "source": [
    "# I have saved my API keys, in a file named secrets.py for security reasons, you can paste it directly here.\n",
    "# from secrets import api_key as API_KEY"
   ]
  },
  {
   "cell_type": "code",
   "execution_count": 1,
   "id": "c65a0166",
   "metadata": {},
   "outputs": [],
   "source": [
    "API_KEY = '7D9SKVR67YIKT6W5CHMKEPHTB62FIP5JAX'"
   ]
  },
  {
   "cell_type": "markdown",
   "id": "113e1518",
   "metadata": {},
   "source": [
    "## Documentation\n",
    "You can get the API documentation for etherscan [here.](https://docs.etherscan.io/)"
   ]
  },
  {
   "cell_type": "markdown",
   "id": "b45f46e4",
   "metadata": {},
   "source": [
    "## Get Ether Balance for a Single Address\n",
    "### Returns the Ether balance of a given address."
   ]
  },
  {
   "cell_type": "code",
   "execution_count": 2,
   "id": "ddde6e7c",
   "metadata": {},
   "outputs": [],
   "source": [
    "api_endpoint = '''\n",
    "https://api.etherscan.io/api\n",
    "   ?module=account\n",
    "   &action=balance\n",
    "   &address=0xde0b295669a9fd93d5f28d9ec85e40f4cb697bae\n",
    "   &tag=latest\n",
    "   &apikey=YourApiKeyToken\n",
    "'''"
   ]
  },
  {
   "cell_type": "markdown",
   "id": "09bf7b37",
   "metadata": {},
   "source": [
    "This is what the API expects as an endpoint, so we want to create a function that creates this endpoint based on our custom parameters. "
   ]
  },
  {
   "cell_type": "markdown",
   "id": "ecb93381",
   "metadata": {},
   "source": [
    "### What are f-string"
   ]
  },
  {
   "cell_type": "code",
   "execution_count": 3,
   "id": "22675d64",
   "metadata": {},
   "outputs": [],
   "source": [
    "a = 'My name is '"
   ]
  },
  {
   "cell_type": "code",
   "execution_count": 4,
   "id": "2716d8e8",
   "metadata": {},
   "outputs": [],
   "source": [
    "b = 'Sid'"
   ]
  },
  {
   "cell_type": "code",
   "execution_count": 5,
   "id": "b7f02ae2",
   "metadata": {},
   "outputs": [
    {
     "data": {
      "text/plain": [
       "'My name is Sid'"
      ]
     },
     "execution_count": 5,
     "metadata": {},
     "output_type": "execute_result"
    }
   ],
   "source": [
    "a + b"
   ]
  },
  {
   "cell_type": "code",
   "execution_count": 6,
   "id": "e1f71d33",
   "metadata": {},
   "outputs": [
    {
     "data": {
      "text/plain": [
       "'My name is Sid'"
      ]
     },
     "execution_count": 6,
     "metadata": {},
     "output_type": "execute_result"
    }
   ],
   "source": [
    "# f-string allow us to dynamically get string\n",
    "c = 'Sid'\n",
    "d = f'My name is {c}'\n",
    "d"
   ]
  },
  {
   "cell_type": "markdown",
   "id": "5a690306",
   "metadata": {},
   "source": [
    "Based on this logic, i have created this funciton"
   ]
  },
  {
   "cell_type": "code",
   "execution_count": 7,
   "id": "e35d06fe",
   "metadata": {},
   "outputs": [],
   "source": [
    "BASE_URL = \"https://api.etherscan.io/api\"\n",
    "\n",
    "def make_url(module, action, address, **kwargs):\n",
    "    url = BASE_URL + f\"?module={module}&action={action}&address={address}&apikey={API_KEY}\"\n",
    "\n",
    "    for key, value in kwargs.items():\n",
    "        url += f\"&{key}={value}\"\n",
    "\n",
    "    return url"
   ]
  },
  {
   "cell_type": "markdown",
   "id": "3e591816",
   "metadata": {},
   "source": [
    "## Address\n",
    "Now it is upto you which wallet you want to analyse, here i am going to use a wallet of one of the biggest exchanges **binance**. Let's see how their transactions look like. ^_^ "
   ]
  },
  {
   "cell_type": "code",
   "execution_count": 8,
   "id": "7f2b3e74",
   "metadata": {},
   "outputs": [],
   "source": [
    "# Address of binance wallet\n",
    "binance_address = \"0xF977814e90dA44bFA03b6295A0616a897441aceC\""
   ]
  },
  {
   "cell_type": "code",
   "execution_count": 9,
   "id": "8a66fd04",
   "metadata": {},
   "outputs": [
    {
     "data": {
      "text/plain": [
       "'https://api.etherscan.io/api?module=account&action=balance&address=0xF977814e90dA44bFA03b6295A0616a897441aceC&apikey=7D9SKVR67YIKT6W5CHMKEPHTB62FIP5JAX&tag=latest'"
      ]
     },
     "execution_count": 9,
     "metadata": {},
     "output_type": "execute_result"
    }
   ],
   "source": [
    "make_url('account', 'balance', binance_address, tag='latest')"
   ]
  },
  {
   "cell_type": "markdown",
   "id": "9d6f4623",
   "metadata": {},
   "source": [
    "So with this, we are successgfully able to create an endpoint.\n",
    "If you want, you can copy this endpoint in your browser and it will give you the balance of this wallet. "
   ]
  },
  {
   "cell_type": "markdown",
   "id": "e86d5c05",
   "metadata": {},
   "source": [
    "![wallet_balance](images/wallet_balance_binance.png \"wallet_balance\")"
   ]
  },
  {
   "cell_type": "markdown",
   "id": "60bd5402",
   "metadata": {},
   "source": [
    "## Using requests\n",
    "Now what we want to acheive the same thing, but not with a browser. This is where requests and python comes in.  \n",
    "\n",
    "We can use the python library requests to make http calls and get these results."
   ]
  },
  {
   "cell_type": "code",
   "execution_count": 10,
   "id": "71c27b72",
   "metadata": {},
   "outputs": [],
   "source": [
    "import requests"
   ]
  },
  {
   "cell_type": "code",
   "execution_count": 11,
   "id": "8e775104",
   "metadata": {},
   "outputs": [],
   "source": [
    "# Firstly, let's make the URL endpoint\n",
    "balance_url = make_url(\"account\", \"balance\", binance_address, tag=\"latest\")"
   ]
  },
  {
   "cell_type": "code",
   "execution_count": 12,
   "id": "cf0b574c",
   "metadata": {},
   "outputs": [
    {
     "data": {
      "text/plain": [
       "'https://api.etherscan.io/api?module=account&action=balance&address=0xF977814e90dA44bFA03b6295A0616a897441aceC&apikey=7D9SKVR67YIKT6W5CHMKEPHTB62FIP5JAX&tag=latest'"
      ]
     },
     "execution_count": 12,
     "metadata": {},
     "output_type": "execute_result"
    }
   ],
   "source": [
    "balance_url"
   ]
  },
  {
   "cell_type": "code",
   "execution_count": 13,
   "id": "0fa6acb6",
   "metadata": {},
   "outputs": [],
   "source": [
    "# Now, let's hit that endpoint with requests\n",
    "response = requests.get(balance_url)"
   ]
  },
  {
   "cell_type": "code",
   "execution_count": null,
   "id": "0378dfa5",
   "metadata": {},
   "outputs": [],
   "source": [
    "response.status_code"
   ]
  },
  {
   "cell_type": "markdown",
   "id": "28aa7e85",
   "metadata": {},
   "source": [
    "![Success](https://media0.giphy.com/media/a0h7sAqON67nO/giphy.gif?cid=ecf05e47ai7bd3lkxk2xzjpk2w5wth06c3fug1kdgwmzd0fg&rid=giphy.gif&ct=g)\n",
    "\n",
    "Successfully got the results, let's see what's inside"
   ]
  },
  {
   "cell_type": "code",
   "execution_count": null,
   "id": "259b6a5a",
   "metadata": {},
   "outputs": [],
   "source": [
    "response.json()"
   ]
  },
  {
   "cell_type": "markdown",
   "id": "00858cf2",
   "metadata": {},
   "source": [
    "So, we get a status code 1, meaning sucess and we got the result '1470354071271032247492506' which is the balance in wei.\n",
    "\n",
    "Wei is the smallest denomination of ether—the cryptocurrency coin used on the Ethereum network. One ether = 1,000,000,000,000,000,000 wei (1e18). The other way to look at it is one wei is one quintillionth of an ether.\n",
    "\n",
    "People did came up with other denominations.\n",
    "\n",
    "![wei](https://legacy.ethgasstation.info/blog/wp-content/uploads/2019/06/Selection_138.png \"wei\")\n",
    "\n",
    "But, we will keep all of our analysis in eth, so let's convert the 'wei' to 'eth' balance.\n",
    "\n",
    "![feeww](https://media1.giphy.com/media/xT5LMzIK1AdZJ4cYW4/giphy.gif?cid=ecf05e47ja8doc2ae9885gkixa6suwr4t84lndmfdto1btmf&rid=giphy.gif&ct=g)"
   ]
  },
  {
   "cell_type": "code",
   "execution_count": null,
   "id": "35bf23b3",
   "metadata": {},
   "outputs": [],
   "source": [
    "eth_wei_value = 10 ** 18\n",
    "print(int(response.json()['result'])/eth_wei_value)"
   ]
  },
  {
   "cell_type": "markdown",
   "id": "e1e19165",
   "metadata": {},
   "source": [
    "So, in the binance wallet, at the time of executing this API call, it had 14 lakh eth 🥲\n",
    "\n",
    "At the price of 1822$, that would be worth 315 Crore 🥴"
   ]
  },
  {
   "cell_type": "code",
   "execution_count": null,
   "id": "65e2b8db",
   "metadata": {},
   "outputs": [],
   "source": [
    "# Let's summarise that in a function\n",
    "def get_account_balance(address):\n",
    "    balance_url = make_url(\"account\", \"balance\", address, tag=\"latest\")\n",
    "    response = requests.get(balance_url)\n",
    "    data = response.json()\n",
    "\n",
    "    value = int(data[\"result\"]) / eth_wei_value\n",
    "    return value"
   ]
  },
  {
   "cell_type": "code",
   "execution_count": null,
   "id": "eb7aea1d",
   "metadata": {},
   "outputs": [],
   "source": [
    "get_account_balance(binance_address)"
   ]
  },
  {
   "cell_type": "markdown",
   "id": "a9efbcf9",
   "metadata": {},
   "source": [
    "### With this, you can get the balance of any ethereum wallet."
   ]
  },
  {
   "cell_type": "markdown",
   "id": "cc06f602",
   "metadata": {},
   "source": [
    "---"
   ]
  },
  {
   "cell_type": "markdown",
   "id": "4d765e16",
   "metadata": {},
   "source": [
    "# Get a list of 'Normal' Transactions By Address\n",
    "Returns the list of transactions performed by an address, with optional pagination."
   ]
  },
  {
   "cell_type": "code",
   "execution_count": null,
   "id": "a9eb940c",
   "metadata": {},
   "outputs": [],
   "source": [
    "'''\n",
    "https://api.etherscan.io/api\n",
    "   ?module=account\n",
    "   &action=txlist\n",
    "   &address=0xc5102fE9359FD9a28f877a67E36B0F050d81a3CC\n",
    "   &startblock=0\n",
    "   &endblock=99999999\n",
    "   &page=1\n",
    "   &offset=10\n",
    "   &sort=asc\n",
    "   &apikey=YourApiKeyToken\n",
    "'''"
   ]
  },
  {
   "cell_type": "markdown",
   "id": "d6c418e9",
   "metadata": {},
   "source": [
    "Again, this is what the API expects as an endpoint, so we want to create a function that creates this endpoint based on our custom parameters. "
   ]
  },
  {
   "cell_type": "code",
   "execution_count": null,
   "id": "cd23b3cb",
   "metadata": {},
   "outputs": [],
   "source": [
    "BASE_URL = \"https://api.etherscan.io/api\"\n",
    "\n",
    "def make_url(module, action, address, **kwargs):\n",
    "    url = BASE_URL + f\"?module={module}&action={action}&address={address}&apikey={API_KEY}\"\n",
    "\n",
    "    for key, value in kwargs.items():\n",
    "        url += f\"&{key}={value}\"\n",
    "\n",
    "    return url"
   ]
  },
  {
   "cell_type": "code",
   "execution_count": null,
   "id": "5a582c54",
   "metadata": {},
   "outputs": [],
   "source": [
    "# Using our earlier function\n",
    "make_url(\"account\", \"txlist\", binance_address, startblock=0, endblock=99999999, page=1, offset=10, sort='asc')"
   ]
  },
  {
   "cell_type": "markdown",
   "id": "7865a3b1",
   "metadata": {},
   "source": [
    "Looks like the function works. You can copy paste this in the browser to check."
   ]
  },
  {
   "cell_type": "code",
   "execution_count": null,
   "id": "f11cfb95",
   "metadata": {},
   "outputs": [],
   "source": [
    "transactional_url = make_url(\"account\", \"txlist\", binance_address, startblock=0, endblock=99999999, page=1, offset=100, sort='asc')"
   ]
  },
  {
   "cell_type": "code",
   "execution_count": null,
   "id": "0364935a",
   "metadata": {},
   "outputs": [],
   "source": [
    "# Using requests\n",
    "data = requests.get(transactional_url)"
   ]
  },
  {
   "cell_type": "code",
   "execution_count": null,
   "id": "3e0956ae",
   "metadata": {},
   "outputs": [],
   "source": [
    "data.status_code"
   ]
  },
  {
   "cell_type": "markdown",
   "id": "1fe01330",
   "metadata": {},
   "source": [
    "Works !\n",
    "\n",
    "![test](https://media1.giphy.com/media/l1usT0HOMDIgWk16Om/giphy.gif?cid=ecf05e47e5t4u1b3dlqwwmrqw5k39f390zf8ifd6i9tmuihs&rid=giphy.gif&ct=g)"
   ]
  },
  {
   "cell_type": "code",
   "execution_count": null,
   "id": "af727d7d",
   "metadata": {},
   "outputs": [],
   "source": [
    "# Let's see what's inside\n",
    "data.json()"
   ]
  },
  {
   "cell_type": "code",
   "execution_count": null,
   "id": "3dfd26e5",
   "metadata": {},
   "outputs": [],
   "source": [
    "# Let's see how many transactions we got\n",
    "len(data.json()['result'])"
   ]
  },
  {
   "cell_type": "markdown",
   "id": "90c6036c",
   "metadata": {},
   "source": [
    "We got 100, just as we passed in the parameters"
   ]
  },
  {
   "cell_type": "code",
   "execution_count": null,
   "id": "d78e3456",
   "metadata": {},
   "outputs": [],
   "source": [
    "# Let's look at an individual result\n",
    "data.json()['result'][0]"
   ]
  },
  {
   "cell_type": "markdown",
   "id": "c7003478",
   "metadata": {},
   "source": [
    "### Looking at this, a few ideas come to mind.\n",
    "- You can calculate the total transactions(in/out)\n",
    "- You can calculate the balance\n",
    "- You can calculate the gas cost for all the transactions\n",
    "\n",
    "And these are just a few ideas, i can think on top of my head."
   ]
  },
  {
   "cell_type": "markdown",
   "id": "379ea13f",
   "metadata": {},
   "source": [
    "# What is Gas fees\n",
    "Gas refers to the unit that measures the amount of computational effort required to execute specific operations on the Ethereum network.\n",
    "\n",
    "Since each Ethereum transaction requires computational resources to execute, each transaction requires a fee. Gas refers to the fee required to conduct a transaction on Ethereum successfully.\n",
    "\n",
    "![gas_fees](https://ethereum.org/static/9628ab90bfd02f64cf873446cbdc6c70/302a4/gas.png)\n",
    "\n",
    "Gas fees are paid in Ethereum's native currency, ether (ETH). Gas prices are denoted in gwei, which itself is a denomination of ETH - each gwei is equal to 0.000000001 ETH (10-9 ETH). For example, instead of saying that your gas costs 0.000000001 ether, you can say your gas costs 1 gwei."
   ]
  },
  {
   "cell_type": "code",
   "execution_count": null,
   "id": "eaff4800",
   "metadata": {},
   "outputs": [],
   "source": [
    "from IPython.display import YouTubeVideo\n",
    "YouTubeVideo('AJvzNICwcwc', width=800, height=300)"
   ]
  },
  {
   "cell_type": "markdown",
   "id": "4d3d957e",
   "metadata": {},
   "source": [
    "## Let's calculate the total transaction amount "
   ]
  },
  {
   "cell_type": "code",
   "execution_count": null,
   "id": "fbd7ef6d",
   "metadata": {},
   "outputs": [],
   "source": [
    "result = data.json()['result']"
   ]
  },
  {
   "cell_type": "code",
   "execution_count": null,
   "id": "1ac17b3a",
   "metadata": {},
   "outputs": [],
   "source": [
    "result"
   ]
  },
  {
   "cell_type": "code",
   "execution_count": null,
   "id": "2f5fe384",
   "metadata": {},
   "outputs": [],
   "source": [
    "total = []\n",
    "for i in result:\n",
    "    total.append(int(i['value']))\n",
    "\n",
    "sum(total)"
   ]
  },
  {
   "cell_type": "markdown",
   "id": "90a3acac",
   "metadata": {},
   "source": [
    "![facepalm](https://media2.giphy.com/media/3xz2BLBOt13X9AgjEA/giphy.gif?cid=ecf05e47ijsrya9c5s2e9fgvh6wb4g6ou9r21m3makmjca0f&rid=giphy.gif&ct=g)\n",
    "\n",
    "The total is in wei, we will need to convert this to Eth. "
   ]
  },
  {
   "cell_type": "code",
   "execution_count": null,
   "id": "717f2e61",
   "metadata": {},
   "outputs": [],
   "source": [
    "(sum(total)/eth_wei_value)"
   ]
  },
  {
   "cell_type": "markdown",
   "id": "99d0ff4c",
   "metadata": {},
   "source": [
    "Since we are only looking at the very first 100 transactions, the total transaction amount is 10 Lakh Eth. Which at today's price would be 160 crore. Not bad \n",
    "\n",
    "![not_bad](https://media2.giphy.com/media/13ZHjidRzoi7n2/giphy.gif?cid=ecf05e47k0jazp4yo4mrgwytrslxfl0bk37m9b14594mlr0i&rid=giphy.gif&ct=g)\n",
    "\n",
    "---"
   ]
  },
  {
   "cell_type": "markdown",
   "id": "5956ab89",
   "metadata": {},
   "source": [
    "## Let's calculate the gas cost for all the transactions"
   ]
  },
  {
   "cell_type": "code",
   "execution_count": null,
   "id": "a29b0035",
   "metadata": {},
   "outputs": [],
   "source": [
    "gas_cost = []\n",
    "for i in result:\n",
    "    cost = int(i['gasPrice']) * int(i['gasUsed'])\n",
    "    gas_cost.append(cost)"
   ]
  },
  {
   "cell_type": "code",
   "execution_count": null,
   "id": "8fa86321",
   "metadata": {},
   "outputs": [],
   "source": [
    "sum(gas_cost)"
   ]
  },
  {
   "cell_type": "code",
   "execution_count": null,
   "id": "dcf5662a",
   "metadata": {},
   "outputs": [],
   "source": [
    "# Converting to eth\n",
    "sum(gas_cost)/eth_wei_value"
   ]
  },
  {
   "cell_type": "markdown",
   "id": "c2b6481d",
   "metadata": {},
   "source": [
    "So, for the very first transactions, the cost was 0.0394 eth. Which by today's price would be about $58.5. \n",
    "\n",
    "So for $160 crore worth of transaction, you pay 58. That is Ridiculous\n",
    "![Ridiculous](https://media4.giphy.com/media/299byQTLdQda9v7LZH/giphy.gif?cid=ecf05e47gzbwhwam86985tlhzog81itb19ruck88oplpq0d6&rid=giphy.gif&ct=g)"
   ]
  },
  {
   "cell_type": "markdown",
   "id": "25641ec3",
   "metadata": {},
   "source": [
    "## Let's calculate the balance"
   ]
  },
  {
   "cell_type": "code",
   "execution_count": null,
   "id": "5c1d619f",
   "metadata": {},
   "outputs": [],
   "source": [
    "balance_history = []\n",
    "time_history = []\n",
    "\n",
    "balance = 0\n",
    "for i in result:\n",
    "    condition = binance_address.lower() == i['to'].lower()    \n",
    "    if condition:\n",
    "        balance += int(i['value'])\n",
    "    else:\n",
    "        balance -= int(i['value'])\n",
    "    time_history.append(i['timeStamp'])\n",
    "    \n",
    "    # Converting wei to eth here only\n",
    "    balance_history.append(balance/eth_wei_value)"
   ]
  },
  {
   "cell_type": "markdown",
   "id": "37949e79",
   "metadata": {},
   "source": [
    "### Let's look at balance history\n"
   ]
  },
  {
   "cell_type": "code",
   "execution_count": null,
   "id": "7dd503f0",
   "metadata": {},
   "outputs": [],
   "source": [
    "balance_history"
   ]
  },
  {
   "cell_type": "markdown",
   "id": "310c90da",
   "metadata": {},
   "source": [
    "### # Let's look at the timestamps "
   ]
  },
  {
   "cell_type": "code",
   "execution_count": null,
   "id": "104cf756",
   "metadata": {},
   "outputs": [],
   "source": [
    "time_history"
   ]
  },
  {
   "cell_type": "markdown",
   "id": "8286a477",
   "metadata": {},
   "source": [
    "What in the world is that\n",
    "\n",
    "![confused](https://media2.giphy.com/media/L2qukNXGjccyuAYd3W/giphy.gif?cid=ecf05e476q0b0ay8qoe16axy12eo9ax8pz5lqgrycpw8v5y2&rid=giphy.gif&ct=g)\n",
    "\n",
    "Ahh, So these are timestamps and we will have to convert them to a date time format"
   ]
  },
  {
   "cell_type": "code",
   "execution_count": null,
   "id": "8231dbeb",
   "metadata": {},
   "outputs": [],
   "source": [
    "from datetime import datetime\n",
    "\n",
    "correct_time_list = []\n",
    "for i in time_history:\n",
    "    correct_time = datetime.fromtimestamp(int(i))\n",
    "    correct_time_list.append(correct_time)"
   ]
  },
  {
   "cell_type": "code",
   "execution_count": null,
   "id": "9322b949",
   "metadata": {},
   "outputs": [],
   "source": [
    "correct_time_list"
   ]
  },
  {
   "cell_type": "markdown",
   "id": "8625e45f",
   "metadata": {},
   "source": [
    "# Let's Plot this "
   ]
  },
  {
   "cell_type": "code",
   "execution_count": null,
   "id": "8df6ec1a",
   "metadata": {},
   "outputs": [],
   "source": [
    "import pandas as pd\n",
    "import \n",
    "df = pd.DataFrame({'Time':correct_time_list, 'Balance':balance_history})"
   ]
  },
  {
   "cell_type": "code",
   "execution_count": null,
   "id": "0d097da9",
   "metadata": {},
   "outputs": [],
   "source": [
    "df.plot()"
   ]
  },
  {
   "cell_type": "markdown",
   "id": "e2692823",
   "metadata": {},
   "source": [
    "![Success](https://media4.giphy.com/media/Q81NcsY6YxK7jxnr4v/giphy.gif?cid=ecf05e47ai7bd3lkxk2xzjpk2w5wth06c3fug1kdgwmzd0fg&rid=giphy.gif&ct=g)"
   ]
  },
  {
   "cell_type": "markdown",
   "id": "da4911c3",
   "metadata": {},
   "source": [
    "# Observations\n",
    "So the balance kept on dropping and all of a sudden boom.\n",
    "\n",
    "# What's next\n",
    "Now you have the knowledge on how to explore different wallets. Go out and explore \n",
    "- Try out thousands of transactions rather than 100 like i have done here. \n",
    "- I have not incorporated the cost of gas feed in my balance calculation. Maybe you should try that !\n",
    "\n",
    "# Special Thanks\n",
    "Special Thanks to [Tech With Tim](https://www.youtube.com/c/TechWithTim), with whose youtube videos, i was able to learn the basics of the etherscan API"
   ]
  },
  {
   "cell_type": "code",
   "execution_count": null,
   "id": "826ebaf5",
   "metadata": {},
   "outputs": [],
   "source": []
  }
 ],
 "metadata": {
  "kernelspec": {
   "display_name": "Python 3 (ipykernel)",
   "language": "python",
   "name": "python3"
  },
  "language_info": {
   "codemirror_mode": {
    "name": "ipython",
    "version": 3
   },
   "file_extension": ".py",
   "mimetype": "text/x-python",
   "name": "python",
   "nbconvert_exporter": "python",
   "pygments_lexer": "ipython3",
   "version": "3.9.16"
  }
 },
 "nbformat": 4,
 "nbformat_minor": 5
}
